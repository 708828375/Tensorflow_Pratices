{
 "cells": [
  {
   "cell_type": "code",
   "execution_count": 1,
   "metadata": {},
   "outputs": [],
   "source": [
    "import tensorflow as tf"
   ]
  },
  {
   "cell_type": "code",
   "execution_count": 2,
   "metadata": {},
   "outputs": [
    {
     "name": "stdout",
     "output_type": "stream",
     "text": [
      "Tensorflow version:2.3.1\n"
     ]
    }
   ],
   "source": [
    "print('Tensorflow version:{}'.format(tf.__version__))"
   ]
  },
  {
   "cell_type": "code",
   "execution_count": 3,
   "metadata": {},
   "outputs": [
    {
     "name": "stdout",
     "output_type": "stream",
     "text": [
      "WARNING:tensorflow:From <ipython-input-3-0c46f1c8b4ad>:2: is_gpu_available (from tensorflow.python.framework.test_util) is deprecated and will be removed in a future version.\n",
      "Instructions for updating:\n",
      "Use `tf.config.list_physical_devices('GPU')` instead.\n"
     ]
    },
    {
     "data": {
      "text/plain": [
       "False"
      ]
     },
     "execution_count": 3,
     "metadata": {},
     "output_type": "execute_result"
    }
   ],
   "source": [
    "# 测试gpu是否可以使用\n",
    "tf.test.is_gpu_available()"
   ]
  },
  {
   "cell_type": "code",
   "execution_count": 4,
   "metadata": {},
   "outputs": [],
   "source": [
    "from tensorflow import keras\n",
    "import matplotlib.pyplot as plt\n",
    "%matplotlib inline\n",
    "import numpy as np"
   ]
  },
  {
   "cell_type": "code",
   "execution_count": 5,
   "metadata": {},
   "outputs": [],
   "source": [
    "# 加载fashion_mnist数据集\n",
    "fashion_mnist = keras.datasets.fashion_mnist\n",
    "(train_images,train_labels),(test_images,test_labels) = fashion_mnist.load_data()"
   ]
  },
  {
   "cell_type": "code",
   "execution_count": 6,
   "metadata": {},
   "outputs": [],
   "source": [
    "# 对图片数据进行扩维\n",
    "train_images = np.expand_dims(train_images,-1) # 在最后一个维度上进行扩张"
   ]
  },
  {
   "cell_type": "code",
   "execution_count": 7,
   "metadata": {},
   "outputs": [],
   "source": [
    "test_images = np.expand_dims(test_images,-1) # 在最后一个维度上进行扩张"
   ]
  },
  {
   "cell_type": "code",
   "execution_count": 8,
   "metadata": {},
   "outputs": [],
   "source": [
    "model= tf.keras.Sequential() # 顺序模型\n",
    "# 第一层使用卷积层，卷积层提取图片特征的能力强   32-fliter个数  (3,3)-卷积核大小，一般使用3*3或5*5  input_shape-图片大小\n",
    "model.add(tf.keras.layers.Conv2D(64,(3,3),input_shape=train_images.shape[1:],activation='relu',padding='same'))\n",
    "model.add(tf.keras.layers.Conv2D(64,(3,3),activation='relu',padding='same'))\n",
    "# 最大池化层\n",
    "model.add(tf.keras.layers.MaxPool2D())\n",
    "# 抑制过拟合\n",
    "model.add(tf.keras.layers.Dropout(0.5))\n",
    "# 卷积核以2的指数增长\n",
    "model.add(tf.keras.layers.Conv2D(128,(3,3),activation='relu',padding='same'))\n",
    "model.add(tf.keras.layers.Conv2D(128,(3,3),activation='relu',padding='same'))\n",
    "# 最大池化层\n",
    "model.add(tf.keras.layers.MaxPool2D())\n",
    "# 抑制过拟合\n",
    "model.add(tf.keras.layers.Dropout(0.5))\n",
    "model.add(tf.keras.layers.Conv2D(256,(3,3),activation='relu',padding='same'))\n",
    "model.add(tf.keras.layers.Conv2D(256,(3,3),activation='relu',padding='same'))\n",
    "# 抑制过拟合\n",
    "model.add(tf.keras.layers.Dropout(0.5))\n",
    "# 全局平均池化：得到一个二维的数据\n",
    "model.add(tf.keras.layers.GlobalAveragePooling2D())\n",
    "# Dense 输出层：输出一个维度为10的数据  softmax:输出概率值\n",
    "model.add(tf.keras.layers.Dense(256,activation='relu'))\n",
    "model.add(tf.keras.layers.Dense(10,activation='softmax'))"
   ]
  },
  {
   "cell_type": "code",
   "execution_count": 9,
   "metadata": {},
   "outputs": [
    {
     "name": "stdout",
     "output_type": "stream",
     "text": [
      "Model: \"sequential\"\n",
      "_________________________________________________________________\n",
      "Layer (type)                 Output Shape              Param #   \n",
      "=================================================================\n",
      "conv2d (Conv2D)              (None, 28, 28, 64)        640       \n",
      "_________________________________________________________________\n",
      "conv2d_1 (Conv2D)            (None, 28, 28, 64)        36928     \n",
      "_________________________________________________________________\n",
      "max_pooling2d (MaxPooling2D) (None, 14, 14, 64)        0         \n",
      "_________________________________________________________________\n",
      "dropout (Dropout)            (None, 14, 14, 64)        0         \n",
      "_________________________________________________________________\n",
      "conv2d_2 (Conv2D)            (None, 14, 14, 128)       73856     \n",
      "_________________________________________________________________\n",
      "conv2d_3 (Conv2D)            (None, 14, 14, 128)       147584    \n",
      "_________________________________________________________________\n",
      "max_pooling2d_1 (MaxPooling2 (None, 7, 7, 128)         0         \n",
      "_________________________________________________________________\n",
      "dropout_1 (Dropout)          (None, 7, 7, 128)         0         \n",
      "_________________________________________________________________\n",
      "conv2d_4 (Conv2D)            (None, 7, 7, 256)         295168    \n",
      "_________________________________________________________________\n",
      "conv2d_5 (Conv2D)            (None, 7, 7, 256)         590080    \n",
      "_________________________________________________________________\n",
      "dropout_2 (Dropout)          (None, 7, 7, 256)         0         \n",
      "_________________________________________________________________\n",
      "global_average_pooling2d (Gl (None, 256)               0         \n",
      "_________________________________________________________________\n",
      "dense (Dense)                (None, 256)               65792     \n",
      "_________________________________________________________________\n",
      "dense_1 (Dense)              (None, 10)                2570      \n",
      "=================================================================\n",
      "Total params: 1,212,618\n",
      "Trainable params: 1,212,618\n",
      "Non-trainable params: 0\n",
      "_________________________________________________________________\n"
     ]
    }
   ],
   "source": [
    "model.summary()"
   ]
  },
  {
   "cell_type": "code",
   "execution_count": 10,
   "metadata": {},
   "outputs": [],
   "source": [
    "# 对模型进行配置\n",
    "model.compile(optimizer='adam',\n",
    "             loss='sparse_categorical_crossentropy',\n",
    "             metrics=['acc'])"
   ]
  },
  {
   "cell_type": "code",
   "execution_count": 11,
   "metadata": {},
   "outputs": [
    {
     "name": "stdout",
     "output_type": "stream",
     "text": [
      "Epoch 1/30\n",
      "1875/1875 [==============================] - 895s 478ms/step - loss: 0.8041 - acc: 0.7017 - val_loss: 0.4595 - val_acc: 0.8395\n",
      "Epoch 2/30\n",
      "1875/1875 [==============================] - 947s 505ms/step - loss: 0.4316 - acc: 0.8399 - val_loss: 0.3974 - val_acc: 0.8531\n",
      "Epoch 3/30\n",
      "1875/1875 [==============================] - 812s 433ms/step - loss: 0.3675 - acc: 0.8648 - val_loss: 0.3175 - val_acc: 0.8822\n",
      "Epoch 4/30\n",
      "1875/1875 [==============================] - 769s 410ms/step - loss: 0.3327 - acc: 0.8777 - val_loss: 0.3256 - val_acc: 0.8787\n",
      "Epoch 5/30\n",
      "1875/1875 [==============================] - 79847s 43s/step - loss: 0.3136 - acc: 0.8835 - val_loss: 0.3146 - val_acc: 0.8879\n",
      "Epoch 6/30\n",
      "1875/1875 [==============================] - 963s 514ms/step - loss: 0.2949 - acc: 0.8916 - val_loss: 0.2640 - val_acc: 0.9038\n",
      "Epoch 7/30\n",
      "1875/1875 [==============================] - 906s 483ms/step - loss: 0.2826 - acc: 0.8955 - val_loss: 0.2964 - val_acc: 0.8886\n",
      "Epoch 8/30\n",
      "1875/1875 [==============================] - 1056s 563ms/step - loss: 0.2729 - acc: 0.8984 - val_loss: 0.2584 - val_acc: 0.9063\n",
      "Epoch 9/30\n",
      "1875/1875 [==============================] - 1006s 537ms/step - loss: 0.2694 - acc: 0.9014 - val_loss: 0.2602 - val_acc: 0.9067\n",
      "Epoch 10/30\n",
      "1875/1875 [==============================] - 950s 507ms/step - loss: 0.2633 - acc: 0.9032 - val_loss: 0.2559 - val_acc: 0.9072\n",
      "Epoch 11/30\n",
      "1875/1875 [==============================] - 895s 478ms/step - loss: 0.2604 - acc: 0.9036 - val_loss: 0.2748 - val_acc: 0.9050\n",
      "Epoch 12/30\n",
      "1875/1875 [==============================] - 971s 518ms/step - loss: 0.2583 - acc: 0.9050 - val_loss: 0.2399 - val_acc: 0.9113\n",
      "Epoch 13/30\n",
      "1875/1875 [==============================] - 869s 463ms/step - loss: 0.2526 - acc: 0.9072 - val_loss: 0.2394 - val_acc: 0.9126\n",
      "Epoch 14/30\n",
      "1875/1875 [==============================] - 860s 459ms/step - loss: 0.2527 - acc: 0.9057 - val_loss: 0.2701 - val_acc: 0.9059\n",
      "Epoch 15/30\n",
      "1875/1875 [==============================] - 863s 460ms/step - loss: 0.2524 - acc: 0.9078 - val_loss: 0.2421 - val_acc: 0.9093\n",
      "Epoch 16/30\n",
      "1875/1875 [==============================] - 860s 459ms/step - loss: 0.2510 - acc: 0.9085 - val_loss: 0.2622 - val_acc: 0.9066\n",
      "Epoch 17/30\n",
      "1875/1875 [==============================] - 872s 465ms/step - loss: 0.2468 - acc: 0.9103 - val_loss: 0.2354 - val_acc: 0.9153\n",
      "Epoch 18/30\n",
      "1875/1875 [==============================] - 867s 463ms/step - loss: 0.2477 - acc: 0.9096 - val_loss: 0.2387 - val_acc: 0.9119\n",
      "Epoch 19/30\n",
      "1875/1875 [==============================] - 866s 462ms/step - loss: 0.2437 - acc: 0.9108 - val_loss: 0.2389 - val_acc: 0.9122\n",
      "Epoch 20/30\n",
      "1875/1875 [==============================] - 863s 460ms/step - loss: 0.2476 - acc: 0.9086 - val_loss: 0.2279 - val_acc: 0.9138\n",
      "Epoch 21/30\n",
      "1875/1875 [==============================] - 871s 464ms/step - loss: 0.2402 - acc: 0.9120 - val_loss: 0.2497 - val_acc: 0.9095\n",
      "Epoch 22/30\n",
      "1875/1875 [==============================] - 864s 461ms/step - loss: 0.2381 - acc: 0.9134 - val_loss: 0.2236 - val_acc: 0.9174\n",
      "Epoch 23/30\n",
      "1875/1875 [==============================] - 867s 462ms/step - loss: 0.2381 - acc: 0.9119 - val_loss: 0.2627 - val_acc: 0.9078\n",
      "Epoch 24/30\n",
      "1875/1875 [==============================] - 865s 461ms/step - loss: 0.2391 - acc: 0.9131 - val_loss: 0.2639 - val_acc: 0.9024\n",
      "Epoch 25/30\n",
      "1875/1875 [==============================] - 870s 464ms/step - loss: 0.2409 - acc: 0.9125 - val_loss: 0.2416 - val_acc: 0.9152\n",
      "Epoch 26/30\n",
      "1875/1875 [==============================] - 868s 463ms/step - loss: 0.2355 - acc: 0.9142 - val_loss: 0.2484 - val_acc: 0.9116\n",
      "Epoch 27/30\n",
      "1875/1875 [==============================] - 868s 463ms/step - loss: 0.2401 - acc: 0.9124 - val_loss: 0.2463 - val_acc: 0.9105\n",
      "Epoch 28/30\n",
      "1875/1875 [==============================] - 964s 514ms/step - loss: 0.2352 - acc: 0.9130 - val_loss: 0.2494 - val_acc: 0.9120\n",
      "Epoch 29/30\n",
      "1875/1875 [==============================] - 1103s 589ms/step - loss: 0.2413 - acc: 0.9124 - val_loss: 0.2399 - val_acc: 0.9181\n",
      "Epoch 30/30\n",
      "1875/1875 [==============================] - 1039s 554ms/step - loss: 0.2327 - acc: 0.9164 - val_loss: 0.2318 - val_acc: 0.9152\n"
     ]
    }
   ],
   "source": [
    "history = model.fit(train_images,train_labels,epochs=30,validation_data = (test_images,test_labels))"
   ]
  },
  {
   "cell_type": "code",
   "execution_count": 13,
   "metadata": {},
   "outputs": [
    {
     "data": {
      "text/plain": [
       "dict_keys(['loss', 'acc', 'val_loss', 'val_acc'])"
      ]
     },
     "execution_count": 13,
     "metadata": {},
     "output_type": "execute_result"
    }
   ],
   "source": [
    "history.history.keys()"
   ]
  },
  {
   "cell_type": "code",
   "execution_count": 14,
   "metadata": {},
   "outputs": [
    {
     "data": {
      "text/plain": [
       "<matplotlib.legend.Legend at 0x20d537881c8>"
      ]
     },
     "execution_count": 14,
     "metadata": {},
     "output_type": "execute_result"
    },
    {
     "data": {
      "image/png": "[encoded data removed]",
      "text/plain": [
       "<Figure size 432x288 with 1 Axes>"
      ]
     },
     "metadata": {
      "needs_background": "light"
     },
     "output_type": "display_data"
    }
   ],
   "source": [
    "plt.plot(history.epoch,history.history.get('acc'),label='acc')\n",
    "plt.plot(history.epoch,history.history.get('val_acc'),label='val_acc')\n",
    "plt.legend()"
   ]
  },
  {
   "cell_type": "code",
   "execution_count": 15,
   "metadata": {},
   "outputs": [
    {
     "data": {
      "text/plain": [
       "<matplotlib.legend.Legend at 0x20d57d0c548>"
      ]
     },
     "execution_count": 15,
     "metadata": {},
     "output_type": "execute_result"
    },
    {
     "data": {
      "image/png": "[encoded data removed]",
      "text/plain": [
       "<Figure size 432x288 with 1 Axes>"
      ]
     },
     "metadata": {
      "needs_background": "light"
     },
     "output_type": "display_data"
    }
   ],
   "source": [
    "plt.plot(history.epoch,history.history.get('loss'),label='loss')\n",
    "plt.plot(history.epoch,history.history.get('val_loss'),label='val_loss')\n",
    "plt.legend()"
   ]
  }
 ],
 "metadata": {
  "kernelspec": {
   "display_name": "Python 3",
   "language": "python",
   "name": "python3"
  },
  "language_info": {
   "codemirror_mode": {
    "name": "ipython",
    "version": 3
   },
   "file_extension": ".py",
   "mimetype": "text/x-python",
   "name": "python",
   "nbconvert_exporter": "python",
   "pygments_lexer": "ipython3",
   "version": "3.7.6"
  }
 },
 "nbformat": 4,
 "nbformat_minor": 4
}
